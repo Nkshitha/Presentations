{
    "metadata": {
        "kernelspec": {
            "name": "SQL",
            "display_name": "SQL",
            "language": "sql"
        },
        "language_info": {
            "name": "sql",
            "version": ""
        }
    },
    "nbformat_minor": 2,
    "nbformat": 4,
    "cells": [
        {
            "cell_type": "markdown",
            "source": [
                "# DIY ETL with Azure Tools - Insight-driven ETL\n",
                "\n",
                "## Craig Porteous | [@cporteous](https://twitter.com/cporteous) | [craigporteous.com](https://craigporteous.com/) | [github.com/cporteou](https://github.com/cporteou)"
            ],
            "metadata": {
                "azdata_cell_guid": "2e72a97a-2f3e-4165-9144-7b1424365f93"
            }
        },
        {
            "cell_type": "code",
            "source": [
                "SELECT * \r\n",
                "FROM    \r\n",
                "    dbo.pbisecurity"
            ],
            "metadata": {
                "azdata_cell_guid": "d6427ebb-7387-436b-b29f-343bfd5804b3"
            },
            "outputs": [
                {
                    "output_type": "display_data",
                    "data": {
                        "text/html": "(0 rows affected)"
                    },
                    "metadata": {}
                },
                {
                    "output_type": "display_data",
                    "data": {
                        "text/html": "Total execution time: 00:00:00.031"
                    },
                    "metadata": {}
                },
                {
                    "output_type": "execute_result",
                    "metadata": {},
                    "execution_count": 3,
                    "data": {
                        "application/vnd.dataresource+json": {
                            "schema": {
                                "fields": [
                                    {
                                        "name": "GroupName"
                                    },
                                    {
                                        "name": "userType"
                                    },
                                    {
                                        "name": "AuditDate"
                                    },
                                    {
                                        "name": "GroupID"
                                    },
                                    {
                                        "name": "UserEmail"
                                    },
                                    {
                                        "name": "UserName"
                                    },
                                    {
                                        "name": "UserRole"
                                    }
                                ]
                            },
                            "data": []
                        },
                        "text/html": [
                            "<table>",
                            "<tr><th>GroupName</th><th>userType</th><th>AuditDate</th><th>GroupID</th><th>UserEmail</th><th>UserName</th><th>UserRole</th></tr>",
                            "</table>"
                        ]
                    }
                }
            ],
            "execution_count": 3
        }
    ]
}