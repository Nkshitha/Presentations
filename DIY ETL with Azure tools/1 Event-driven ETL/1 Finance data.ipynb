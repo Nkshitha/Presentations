{
    "metadata": {
        "kernelspec": {
            "name": "SQL",
            "display_name": "SQL",
            "language": "sql"
        },
        "language_info": {
            "name": "sql",
            "version": ""
        }
    },
    "nbformat_minor": 2,
    "nbformat": 4,
    "cells": [
        {
            "cell_type": "markdown",
            "source": [
                "# DIY ETL with Azure Tools - Event-driven ELT\n",
                "\n",
                "## Craig Porteous | [@cporteous](https://twitter.com/cporteous) | [craigporteous.com](https://craigporteous.com/) | [github.com/cporteou](https://github.com/cporteou)"
            ],
            "metadata": {
                "azdata_cell_guid": "931cd9a0-e456-483b-ab39-47ad6ae7bd43"
            }
        },
        {
            "cell_type": "markdown",
            "source": [
                "##  Power Automate ingestion from Excel\n",
                "\n",
                "We cant do much about updating data using a Copy Data activity in ADF so we should treat this as a landing table and call a stored procedure in ADF to do the integration and transformation work."
            ],
            "metadata": {
                "azdata_cell_guid": "8731976b-e8bc-400e-be52-8722d8cf7794"
            }
        },
        {
            "cell_type": "code",
            "source": [
                "SELECT TOP 10 * \r\n",
                "FROM \r\n",
                "    dbo.financerecords"
            ],
            "metadata": {
                "azdata_cell_guid": "edead439-eecd-4048-899e-8505173e6573"
            },
            "outputs": [
                {
                    "output_type": "display_data",
                    "data": {
                        "text/html": "(10 rows affected)"
                    },
                    "metadata": {}
                },
                {
                    "output_type": "display_data",
                    "data": {
                        "text/html": "Total execution time: 00:00:00.030"
                    },
                    "metadata": {}
                },
                {
                    "output_type": "execute_result",
                    "metadata": {},
                    "execution_count": 3,
                    "data": {
                        "application/vnd.dataresource+json": {
                            "schema": {
                                "fields": [
                                    {
                                        "name": "Date"
                                    },
                                    {
                                        "name": "MoneyIn"
                                    },
                                    {
                                        "name": "MoneyOut"
                                    }
                                ]
                            },
                            "data": [
                                {
                                    "0": "2020-10-03 00:00:00.000",
                                    "1": "440.65",
                                    "2": "NULL"
                                },
                                {
                                    "0": "2020-10-03 00:00:00.000",
                                    "1": "NULL",
                                    "2": "10.00"
                                },
                                {
                                    "0": "2020-10-03 00:00:00.000",
                                    "1": "20.34",
                                    "2": "NULL"
                                },
                                {
                                    "0": "2020-10-03 00:00:00.000",
                                    "1": "NULL",
                                    "2": "200.00"
                                },
                                {
                                    "0": "2020-10-06 00:00:00.000",
                                    "1": "150.62",
                                    "2": "NULL"
                                },
                                {
                                    "0": "2020-10-07 00:00:00.000",
                                    "1": "NULL",
                                    "2": "56.99"
                                },
                                {
                                    "0": "2020-10-07 00:00:00.000",
                                    "1": "24.00",
                                    "2": "NULL"
                                },
                                {
                                    "0": "2020-10-09 00:00:00.000",
                                    "1": "29.99",
                                    "2": "NULL"
                                },
                                {
                                    "0": "2020-10-10 00:00:00.000",
                                    "1": "NULL",
                                    "2": "2000.00"
                                },
                                {
                                    "0": "2020-10-13 00:00:00.000",
                                    "1": "159.99",
                                    "2": "NULL"
                                }
                            ]
                        },
                        "text/html": [
                            "<table>",
                            "<tr><th>Date</th><th>MoneyIn</th><th>MoneyOut</th></tr>",
                            "<tr><td>2020-10-03 00:00:00.000</td><td>440.65</td><td>NULL</td></tr>",
                            "<tr><td>2020-10-03 00:00:00.000</td><td>NULL</td><td>10.00</td></tr>",
                            "<tr><td>2020-10-03 00:00:00.000</td><td>20.34</td><td>NULL</td></tr>",
                            "<tr><td>2020-10-03 00:00:00.000</td><td>NULL</td><td>200.00</td></tr>",
                            "<tr><td>2020-10-06 00:00:00.000</td><td>150.62</td><td>NULL</td></tr>",
                            "<tr><td>2020-10-07 00:00:00.000</td><td>NULL</td><td>56.99</td></tr>",
                            "<tr><td>2020-10-07 00:00:00.000</td><td>24.00</td><td>NULL</td></tr>",
                            "<tr><td>2020-10-09 00:00:00.000</td><td>29.99</td><td>NULL</td></tr>",
                            "<tr><td>2020-10-10 00:00:00.000</td><td>NULL</td><td>2000.00</td></tr>",
                            "<tr><td>2020-10-13 00:00:00.000</td><td>159.99</td><td>NULL</td></tr>",
                            "</table>"
                        ]
                    }
                }
            ],
            "execution_count": 3
        },
        {
            "cell_type": "markdown",
            "source": [
                "## Azure Data Factory logging output \n",
                "\n",
                "This is ideal for monitoring the run duration of pipelines.\n",
                "\n",
                "  \n",
                "\n",
                "It is also good practice to diagnostic logging as data factory only retains 45 days worth of pipeline run logs"
            ],
            "metadata": {
                "azdata_cell_guid": "cf6f6505-e64c-41ca-84fc-425fd4d92784"
            }
        },
        {
            "cell_type": "code",
            "source": [
                "SELECT *\r\n",
                "FROM    \r\n",
                "    dbo.ADF_PIPELINE_LOG"
            ],
            "metadata": {
                "azdata_cell_guid": "f5b1b888-a702-4b76-a0d1-f034b000fd12"
            },
            "outputs": [
                {
                    "output_type": "display_data",
                    "data": {
                        "text/html": "(11 rows affected)"
                    },
                    "metadata": {}
                },
                {
                    "output_type": "display_data",
                    "data": {
                        "text/html": "Total execution time: 00:00:00.037"
                    },
                    "metadata": {}
                },
                {
                    "output_type": "execute_result",
                    "metadata": {},
                    "execution_count": 2,
                    "data": {
                        "application/vnd.dataresource+json": {
                            "schema": {
                                "fields": [
                                    {
                                        "name": "Pipeline_run"
                                    },
                                    {
                                        "name": "run_start_datetime"
                                    },
                                    {
                                        "name": "run_end_datetime"
                                    },
                                    {
                                        "name": "run_id"
                                    }
                                ]
                            },
                            "data": [
                                {
                                    "0": "diy-pbi-to-sql",
                                    "1": "2020-10-15 11:29:09.230",
                                    "2": "2020-10-15 11:29:25.510",
                                    "3": "6e2b4ee5-fc58-42ef-ad4b-f78841985163"
                                },
                                {
                                    "0": "diy-blob-to-sql",
                                    "1": "2020-10-15 19:07:45.020",
                                    "2": "2020-10-15 19:08:03.783",
                                    "3": "43c1ee8b-fcef-40eb-845c-e77267f636e3"
                                },
                                {
                                    "0": "3 diy-pbi-to-sql",
                                    "1": "2020-10-15 19:11:16.910",
                                    "2": "2020-10-15 19:11:42.067",
                                    "3": "e9a22013-49ee-4cff-a4a3-3781adee769f"
                                },
                                {
                                    "0": "2 diy-blob-to-adls",
                                    "1": "2020-10-16 07:34:50.367",
                                    "2": "NULL",
                                    "3": "e98a6978-ae10-41f2-b2c6-affeb9183ffc"
                                },
                                {
                                    "0": "3 diy-pbi-to-sql",
                                    "1": "2020-10-16 20:18:29.010",
                                    "2": "2020-10-16 20:19:18.900",
                                    "3": "22120ce8-38d7-4555-878c-310dba497a60"
                                },
                                {
                                    "0": "2 diy-blob-to-adls",
                                    "1": "2020-10-16 07:37:12.073",
                                    "2": "NULL",
                                    "3": "235fce83-3f2d-4b20-896a-991e21cadfd2"
                                },
                                {
                                    "0": "2 diy-blob-to-adls",
                                    "1": "2020-10-16 07:38:47.990",
                                    "2": "2020-10-16 07:38:59.627",
                                    "3": "826de962-c5f7-47b0-bdbd-df4c15dbba9e"
                                },
                                {
                                    "0": "1 diy-blob-to-sql",
                                    "1": "2020-10-16 19:51:55.367",
                                    "2": "2020-10-16 19:52:12.797",
                                    "3": "bc4c250e-da8c-4fe4-8884-d8b0c91d83b4"
                                },
                                {
                                    "0": "2 diy-blob-to-adls",
                                    "1": "2020-10-16 20:04:33.030",
                                    "2": "NULL",
                                    "3": "c281d7b1-920d-4f79-95a4-60fbf4424130"
                                },
                                {
                                    "0": "2 diy-blob-to-adls",
                                    "1": "2020-10-16 20:05:47.327",
                                    "2": "NULL",
                                    "3": "28e795e4-e0ff-4b7f-815b-2113524b5b24"
                                },
                                {
                                    "0": "1 diy-blob-to-sql",
                                    "1": "2020-10-16 20:33:53.513",
                                    "2": "2020-10-16 20:34:05.210",
                                    "3": "0cf93fd2-fa34-427d-bbdd-321cf796f856"
                                }
                            ]
                        },
                        "text/html": [
                            "<table>",
                            "<tr><th>Pipeline_run</th><th>run_start_datetime</th><th>run_end_datetime</th><th>run_id</th></tr>",
                            "<tr><td>diy-pbi-to-sql</td><td>2020-10-15 11:29:09.230</td><td>2020-10-15 11:29:25.510</td><td>6e2b4ee5-fc58-42ef-ad4b-f78841985163</td></tr>",
                            "<tr><td>diy-blob-to-sql</td><td>2020-10-15 19:07:45.020</td><td>2020-10-15 19:08:03.783</td><td>43c1ee8b-fcef-40eb-845c-e77267f636e3</td></tr>",
                            "<tr><td>3 diy-pbi-to-sql</td><td>2020-10-15 19:11:16.910</td><td>2020-10-15 19:11:42.067</td><td>e9a22013-49ee-4cff-a4a3-3781adee769f</td></tr>",
                            "<tr><td>2 diy-blob-to-adls</td><td>2020-10-16 07:34:50.367</td><td>NULL</td><td>e98a6978-ae10-41f2-b2c6-affeb9183ffc</td></tr>",
                            "<tr><td>3 diy-pbi-to-sql</td><td>2020-10-16 20:18:29.010</td><td>2020-10-16 20:19:18.900</td><td>22120ce8-38d7-4555-878c-310dba497a60</td></tr>",
                            "<tr><td>2 diy-blob-to-adls</td><td>2020-10-16 07:37:12.073</td><td>NULL</td><td>235fce83-3f2d-4b20-896a-991e21cadfd2</td></tr>",
                            "<tr><td>2 diy-blob-to-adls</td><td>2020-10-16 07:38:47.990</td><td>2020-10-16 07:38:59.627</td><td>826de962-c5f7-47b0-bdbd-df4c15dbba9e</td></tr>",
                            "<tr><td>1 diy-blob-to-sql</td><td>2020-10-16 19:51:55.367</td><td>2020-10-16 19:52:12.797</td><td>bc4c250e-da8c-4fe4-8884-d8b0c91d83b4</td></tr>",
                            "<tr><td>2 diy-blob-to-adls</td><td>2020-10-16 20:04:33.030</td><td>NULL</td><td>c281d7b1-920d-4f79-95a4-60fbf4424130</td></tr>",
                            "<tr><td>2 diy-blob-to-adls</td><td>2020-10-16 20:05:47.327</td><td>NULL</td><td>28e795e4-e0ff-4b7f-815b-2113524b5b24</td></tr>",
                            "<tr><td>1 diy-blob-to-sql</td><td>2020-10-16 20:33:53.513</td><td>2020-10-16 20:34:05.210</td><td>0cf93fd2-fa34-427d-bbdd-321cf796f856</td></tr>",
                            "</table>"
                        ]
                    }
                }
            ],
            "execution_count": 2
        }
    ]
}